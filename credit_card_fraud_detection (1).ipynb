{
  "cells": [
    {
      "cell_type": "code",
      "execution_count": null,
      "id": "85a48455",
      "metadata": {
        "id": "85a48455"
      },
      "outputs": [],
      "source": [
        "import numpy as np\n",
        "import pandas as pd\n",
        "import joblib"
      ]
    },
    {
      "cell_type": "code",
      "execution_count": null,
      "id": "d5e04430",
      "metadata": {
        "id": "d5e04430"
      },
      "outputs": [],
      "source": [
        "pay=pd.read_csv('payment_data.csv')\n",
        "cus=pd.read_csv('customer_data.csv')"
      ]
    },
    {
      "cell_type": "code",
      "execution_count": null,
      "id": "08c4b5f5",
      "metadata": {
        "id": "08c4b5f5"
      },
      "outputs": [],
      "source": [
        "primary_key_column = 'id'\n",
        "merged_data = pd.merge(cus, pay, on=primary_key_column)"
      ]
    },
    {
      "cell_type": "code",
      "execution_count": null,
      "id": "3969b810",
      "metadata": {
        "id": "3969b810"
      },
      "outputs": [],
      "source": [
        "columns_to_drop = ['report_date','update_date','prod_limit','highest_balance']\n",
        "# Drop the specified feature columns\n",
        "dataset_dropped = merged_data.drop(columns=columns_to_drop, axis=1)"
      ]
    },
    {
      "cell_type": "code",
      "execution_count": null,
      "id": "1c717fb2",
      "metadata": {
        "id": "1c717fb2"
      },
      "outputs": [],
      "source": [
        "from sklearn.impute import KNNImputer\n",
        "impute = KNNImputer(n_neighbors= 3)\n",
        "dataset_dropped['fea_2'] = impute.fit_transform(dataset_dropped[['fea_2']])"
      ]
    },
    {
      "cell_type": "code",
      "execution_count": null,
      "id": "9d6ce84a",
      "metadata": {
        "id": "9d6ce84a"
      },
      "outputs": [],
      "source": [
        "X=dataset_dropped.iloc[:,2:]\n",
        "y=dataset_dropped['label']"
      ]
    },
    {
      "cell_type": "code",
      "execution_count": null,
      "id": "97687c60",
      "metadata": {
        "id": "97687c60"
      },
      "outputs": [],
      "source": [
        "from sklearn.model_selection import train_test_split\n",
        "from sklearn.linear_model import LogisticRegression\n",
        "from sklearn.ensemble import GradientBoostingClassifier\n",
        "from sklearn.svm import SVC\n",
        "from sklearn.neural_network import MLPClassifier\n",
        "from sklearn.neighbors import KNeighborsClassifier\n",
        "from sklearn.naive_bayes import GaussianNB\n",
        "from xgboost import XGBClassifier\n",
        "from lightgbm import LGBMClassifier\n",
        "\n",
        "from sklearn.tree import DecisionTreeClassifier\n",
        "from sklearn.ensemble import RandomForestClassifier\n",
        "from sklearn.ensemble import VotingClassifier\n",
        "from sklearn.metrics import accuracy_score\n",
        "\n"
      ]
    },
    {
      "cell_type": "code",
      "execution_count": null,
      "id": "30d9c90d",
      "metadata": {
        "id": "30d9c90d"
      },
      "outputs": [],
      "source": [
        "X_train, X_test, y_train, y_test = train_test_split(X, y, test_size=0.2, random_state=42)"
      ]
    },
    {
      "cell_type": "code",
      "execution_count": null,
      "id": "7ae959e4",
      "metadata": {
        "id": "7ae959e4"
      },
      "outputs": [],
      "source": [
        "logreg = LogisticRegression(random_state=42)\n",
        "dtree = DecisionTreeClassifier(random_state=42)\n",
        "rf = RandomForestClassifier(random_state=42)\n",
        "gboost = GradientBoostingClassifier(random_state=42)\n",
        "svm = SVC(probability=True, random_state=42)\n",
        "nn = MLPClassifier(random_state=42)\n",
        "knn = KNeighborsClassifier()\n",
        "nb = GaussianNB()\n",
        "xgboost = XGBClassifier(random_state=42)\n",
        "lightgbm = LGBMClassifier(random_state=42)"
      ]
    },
    {
      "cell_type": "code",
      "execution_count": null,
      "id": "3c4a6f08",
      "metadata": {
        "colab": {
          "base_uri": "https://localhost:8080/",
          "height": 74
        },
        "id": "3c4a6f08",
        "outputId": "610b1e68-48c4-46b8-ad42-4e768a1aa0d8"
      },
      "outputs": [
        {
          "data": {
            "text/html": [
              "<style>#sk-container-id-1 {color: black;background-color: white;}#sk-container-id-1 pre{padding: 0;}#sk-container-id-1 div.sk-toggleable {background-color: white;}#sk-container-id-1 label.sk-toggleable__label {cursor: pointer;display: block;width: 100%;margin-bottom: 0;padding: 0.3em;box-sizing: border-box;text-align: center;}#sk-container-id-1 label.sk-toggleable__label-arrow:before {content: \"▸\";float: left;margin-right: 0.25em;color: #696969;}#sk-container-id-1 label.sk-toggleable__label-arrow:hover:before {color: black;}#sk-container-id-1 div.sk-estimator:hover label.sk-toggleable__label-arrow:before {color: black;}#sk-container-id-1 div.sk-toggleable__content {max-height: 0;max-width: 0;overflow: hidden;text-align: left;background-color: #f0f8ff;}#sk-container-id-1 div.sk-toggleable__content pre {margin: 0.2em;color: black;border-radius: 0.25em;background-color: #f0f8ff;}#sk-container-id-1 input.sk-toggleable__control:checked~div.sk-toggleable__content {max-height: 200px;max-width: 100%;overflow: auto;}#sk-container-id-1 input.sk-toggleable__control:checked~label.sk-toggleable__label-arrow:before {content: \"▾\";}#sk-container-id-1 div.sk-estimator input.sk-toggleable__control:checked~label.sk-toggleable__label {background-color: #d4ebff;}#sk-container-id-1 div.sk-label input.sk-toggleable__control:checked~label.sk-toggleable__label {background-color: #d4ebff;}#sk-container-id-1 input.sk-hidden--visually {border: 0;clip: rect(1px 1px 1px 1px);clip: rect(1px, 1px, 1px, 1px);height: 1px;margin: -1px;overflow: hidden;padding: 0;position: absolute;width: 1px;}#sk-container-id-1 div.sk-estimator {font-family: monospace;background-color: #f0f8ff;border: 1px dotted black;border-radius: 0.25em;box-sizing: border-box;margin-bottom: 0.5em;}#sk-container-id-1 div.sk-estimator:hover {background-color: #d4ebff;}#sk-container-id-1 div.sk-parallel-item::after {content: \"\";width: 100%;border-bottom: 1px solid gray;flex-grow: 1;}#sk-container-id-1 div.sk-label:hover label.sk-toggleable__label {background-color: #d4ebff;}#sk-container-id-1 div.sk-serial::before {content: \"\";position: absolute;border-left: 1px solid gray;box-sizing: border-box;top: 0;bottom: 0;left: 50%;z-index: 0;}#sk-container-id-1 div.sk-serial {display: flex;flex-direction: column;align-items: center;background-color: white;padding-right: 0.2em;padding-left: 0.2em;position: relative;}#sk-container-id-1 div.sk-item {position: relative;z-index: 1;}#sk-container-id-1 div.sk-parallel {display: flex;align-items: stretch;justify-content: center;background-color: white;position: relative;}#sk-container-id-1 div.sk-item::before, #sk-container-id-1 div.sk-parallel-item::before {content: \"\";position: absolute;border-left: 1px solid gray;box-sizing: border-box;top: 0;bottom: 0;left: 50%;z-index: -1;}#sk-container-id-1 div.sk-parallel-item {display: flex;flex-direction: column;z-index: 1;position: relative;background-color: white;}#sk-container-id-1 div.sk-parallel-item:first-child::after {align-self: flex-end;width: 50%;}#sk-container-id-1 div.sk-parallel-item:last-child::after {align-self: flex-start;width: 50%;}#sk-container-id-1 div.sk-parallel-item:only-child::after {width: 0;}#sk-container-id-1 div.sk-dashed-wrapped {border: 1px dashed gray;margin: 0 0.4em 0.5em 0.4em;box-sizing: border-box;padding-bottom: 0.4em;background-color: white;}#sk-container-id-1 div.sk-label label {font-family: monospace;font-weight: bold;display: inline-block;line-height: 1.2em;}#sk-container-id-1 div.sk-label-container {text-align: center;}#sk-container-id-1 div.sk-container {/* jupyter's `normalize.less` sets `[hidden] { display: none; }` but bootstrap.min.css set `[hidden] { display: none !important; }` so we also need the `!important` here to be able to override the default hidden behavior on the sphinx rendered scikit-learn.org. See: https://github.com/scikit-learn/scikit-learn/issues/21755 */display: inline-block !important;position: relative;}#sk-container-id-1 div.sk-text-repr-fallback {display: none;}</style><div id=\"sk-container-id-1\" class=\"sk-top-container\"><div class=\"sk-text-repr-fallback\"><pre>LGBMClassifier(random_state=42)</pre><b>In a Jupyter environment, please rerun this cell to show the HTML representation or trust the notebook. <br />On GitHub, the HTML representation is unable to render, please try loading this page with nbviewer.org.</b></div><div class=\"sk-container\" hidden><div class=\"sk-item\"><div class=\"sk-estimator sk-toggleable\"><input class=\"sk-toggleable__control sk-hidden--visually\" id=\"sk-estimator-id-1\" type=\"checkbox\" checked><label for=\"sk-estimator-id-1\" class=\"sk-toggleable__label sk-toggleable__label-arrow\">LGBMClassifier</label><div class=\"sk-toggleable__content\"><pre>LGBMClassifier(random_state=42)</pre></div></div></div></div></div>"
            ],
            "text/plain": [
              "LGBMClassifier(random_state=42)"
            ]
          },
          "execution_count": 11,
          "metadata": {},
          "output_type": "execute_result"
        }
      ],
      "source": [
        "ensemble = VotingClassifier(estimators=[('logreg', logreg), ('dtree', dtree), ('rf', rf),('gboost', gboost),\n",
        "    ('svm', svm),\n",
        "    ('nn', nn),\n",
        "    ('knn', knn),\n",
        "    ('nb', nb),\n",
        "    ('xgboost', xgboost),\n",
        "    ('lightgbm', lightgbm),\n",
        "    ], voting='hard')\n",
        "ensemble.fit(X_train, y_train)\n",
        "\n",
        "logreg.fit(X_train,y_train)\n",
        "dtree.fit(X_train,y_train)\n",
        "rf.fit(X_train,y_train)\n",
        "gboost.fit(X_train,y_train)\n",
        "svm.fit(X_train,y_train)\n",
        "nn.fit(X_train,y_train)\n",
        "knn.fit(X_train,y_train)\n",
        "nb.fit(X_train,y_train)\n",
        "xgboost.fit(X_train,y_train)\n",
        "lightgbm.fit(X_train,y_train)\n"
      ]
    },
    {
      "cell_type": "code",
      "execution_count": null,
      "id": "dcb72e59",
      "metadata": {
        "colab": {
          "base_uri": "https://localhost:8080/"
        },
        "id": "dcb72e59",
        "outputId": "c4f23b40-8bfd-48c5-e134-cef8c330e73b"
      },
      "outputs": [
        {
          "name": "stdout",
          "output_type": "stream",
          "text": [
            "Ensemble Accuracy: 0.8709090909090909\n",
            "logistic_reg Accuracy: 0.8375757575757575\n",
            "descision Accuracy: 0.9860606060606061\n",
            "random forest: 0.9733333333333334\n",
            "gboost Accuracy: 0.8824242424242424\n",
            "svm Accuracy: 0.8387878787878787\n",
            "nn Accuracy: 0.8006060606060607\n",
            "knn Accuracy: 0.8684848484848485\n",
            "nb Accuracy: 0.8272727272727273\n",
            "xgboost Accuracy: 0.9927272727272727\n",
            "lightgbm Accuracy: 0.9872727272727273\n"
          ]
        }
      ],
      "source": [
        "\n",
        "ensemble_predictions = ensemble.predict(X_test)\n",
        "logreg_pred=logreg.predict(X_test)\n",
        "dtree_pred=dtree.predict(X_test)\n",
        "rf_pred=rf.predict(X_test)\n",
        "gboost_pred=gboost.predict(X_test)\n",
        "svm_pred=svm.predict(X_test)\n",
        "nn_pred=nn.predict(X_test)\n",
        "knn_pred=knn.predict(X_test)\n",
        "nb_pred=nb.predict(X_test)\n",
        "xgboost_pred=xgboost.predict(X_test)\n",
        "lightgbm_pred=lightgbm.predict(X_test)\n",
        "\n",
        "\n",
        "accuracy = accuracy_score(y_test, ensemble_predictions)\n",
        "print(\"Ensemble Accuracy:\", accuracy)\n",
        "\n",
        "accuracy1 = accuracy_score(y_test, logreg_pred)\n",
        "print(\"logistic_reg Accuracy:\", accuracy1)\n",
        "\n",
        "accuracy2 = accuracy_score(y_test,dtree_pred)\n",
        "print(\"descision Accuracy:\", accuracy2)\n",
        "\n",
        "accuracy3 = accuracy_score(y_test,rf_pred)\n",
        "print(\"random forest:\", accuracy3)\n",
        "\n",
        "accuracy4 = accuracy_score(y_test, gboost_pred)\n",
        "print(\"gboost Accuracy:\", accuracy4)\n",
        "\n",
        "accuracy5 = accuracy_score(y_test, svm_pred)\n",
        "print(\"svm Accuracy:\", accuracy5)\n",
        "\n",
        "accuracy6 = accuracy_score(y_test, nn_pred)\n",
        "print(\"nn Accuracy:\", accuracy6)\n",
        "\n",
        "accuracy7 = accuracy_score(y_test, knn_pred)\n",
        "print(\"knn Accuracy:\", accuracy7)\n",
        "\n",
        "\n",
        "accuracy8 = accuracy_score(y_test, nb_pred)\n",
        "print(\"nb Accuracy:\", accuracy8)\n",
        "\n",
        "accuracy9 = accuracy_score(y_test, xgboost_pred)\n",
        "print(\"xgboost Accuracy:\", accuracy9)\n",
        "\n",
        "accuracy10 = accuracy_score(y_test,lightgbm_pred)\n",
        "print(\"lightgbm Accuracy:\", accuracy10)\n"
      ]
    },
    {
      "cell_type": "code",
      "execution_count": null,
      "id": "8b4e59f1",
      "metadata": {
        "id": "8b4e59f1"
      },
      "outputs": [],
      "source": []
    },
    {
      "cell_type": "code",
      "execution_count": null,
      "id": "53599487",
      "metadata": {
        "colab": {
          "base_uri": "https://localhost:8080/"
        },
        "id": "53599487",
        "outputId": "01dc18ac-44d2-48c2-d0b3-52dd4bea5fe8"
      },
      "outputs": [
        {
          "name": "stdout",
          "output_type": "stream",
          "text": [
            "0.23\n",
            "0.232\n",
            "0.745\n",
            "0.86356\n",
            "0.098\n",
            "0.\n",
            "5.66\n",
            "5.8765\n",
            "0.344\n",
            "654.5\n",
            "800009.8\n",
            "565.6\n",
            "65.3\n",
            "6564.6\n",
            "6443\n",
            "65.6\n",
            "654.\n",
            "634.6\n",
            "Individual Model Predictions:\n",
            "Logistic Regression: [0]\n",
            "Decision Tree: [0]\n",
            "Random Forest: [0]\n",
            "Gradient Boosting: [1]\n",
            "SVM: [0]\n",
            "Neural Network: [1]\n",
            "KNN: [1]\n",
            "Naive Bayes: [0]\n",
            "XGBoost: [0]\n",
            "LightGBM: [0]\n",
            "\n",
            "Ensemble Model Prediction:\n",
            "Ensemble: [0]\n",
            "DETECTING----\n"
          ]
        }
      ],
      "source": [
        "import pandas as pd\n",
        "\n",
        "# Prepare new data point\n",
        "new_data_point = {\n",
        "    'OVD_sum':float(input()),\n",
        "    'OVD_t1': float(input()),\n",
        "    'OVD_t2': float(input()),\n",
        "    'OVD_t3': float(input()),\n",
        "    'fea_10': float(input()),\n",
        "    'fea_1': float(input()),\n",
        "    'fea_11': float(input()),\n",
        "    'fea_2': float(input()),\n",
        "    'fea_3': float(input()),\n",
        "    'fea_4': float(input()),\n",
        "    'fea_5': float(input()),\n",
        "    'fea_6': float(input()),\n",
        "    'fea_7': float(input()),\n",
        "    'fea_8': float(input()),\n",
        "    'fea_9': float(input()),\n",
        "    'new_balance': float(input()),\n",
        "    'pay_normal': float(input()),\n",
        "    'prod_code': float(input()),\n",
        "}\n",
        "new_data_df = pd.DataFrame([new_data_point])\n",
        "\n",
        "new_data_df = new_data_df[X_train.columns]\n",
        "\n",
        "\n",
        "# Make predictions\n",
        "logreg_pred = logreg.predict(new_data_df)\n",
        "dtree_pred = dtree.predict(new_data_df)\n",
        "rf_pred = rf.predict(new_data_df)\n",
        "gboost_pred = gboost.predict(new_data_df)\n",
        "svm_pred = svm.predict(new_data_df)\n",
        "nn_pred = nn.predict(new_data_df)\n",
        "knn_pred = knn.predict(new_data_df)\n",
        "nb_pred = nb.predict(new_data_df)\n",
        "xgboost_pred = xgboost.predict(new_data_df)\n",
        "lightgbm_pred = lightgbm.predict(new_data_df)\n",
        "ensemble_pred = ensemble.predict(new_data_df)\n",
        "detected=[]\n",
        "# Print predictions\n",
        "print(\"Individual Model Predictions:\")\n",
        "print(\"Logistic Regression:\", logreg_pred)\n",
        "print(\"Decision Tree:\", dtree_pred)\n",
        "print(\"Random Forest:\", rf_pred)\n",
        "print(\"Gradient Boosting:\", gboost_pred)\n",
        "print(\"SVM:\", svm_pred)\n",
        "print(\"Neural Network:\", nn_pred)\n",
        "print(\"KNN:\", knn_pred)\n",
        "print(\"Naive Bayes:\", nb_pred)\n",
        "print(\"XGBoost:\", xgboost_pred)\n",
        "print(\"LightGBM:\", lightgbm_pred)\n",
        "\n",
        "print(\"\\nEnsemble Model Prediction:\")\n",
        "print(\"Ensemble:\", ensemble_pred)\n",
        "print('DETECTING----')"
      ]
    },
    {
      "cell_type": "code",
      "execution_count": null,
      "id": "q4Bfl2nliDtP",
      "metadata": {
        "id": "q4Bfl2nliDtP"
      },
      "outputs": [],
      "source": [
        "detected=[logreg_pred,dtree_pred,rf_pred,gboost_pred,svm_pred,nn_pred,nb_pred,knn_pred,xgboost_pred,lightgbm_pred]"
      ]
    },
    {
      "cell_type": "code",
      "execution_count": null,
      "id": "pEM7MDIjhWhT",
      "metadata": {
        "id": "pEM7MDIjhWhT"
      },
      "outputs": [],
      "source": [
        "noof1=0\n",
        "noof0=0\n",
        "for i in detected:\n",
        "  if i==1:\n",
        "    noof1+=1\n",
        "  else:\n",
        "    noof0+=1"
      ]
    },
    {
      "cell_type": "code",
      "execution_count": null,
      "id": "lti9Yt-xhtEK",
      "metadata": {
        "colab": {
          "base_uri": "https://localhost:8080/"
        },
        "id": "lti9Yt-xhtEK",
        "outputId": "bf4398b6-3aae-4292-ff5c-78a301f29c6f"
      },
      "outputs": [
        {
          "data": {
            "text/plain": [
              "[array([0]),\n",
              " array([0]),\n",
              " array([0]),\n",
              " array([1]),\n",
              " array([0]),\n",
              " array([1]),\n",
              " array([0]),\n",
              " array([1]),\n",
              " array([0]),\n",
              " array([0])]"
            ]
          },
          "execution_count": 34,
          "metadata": {},
          "output_type": "execute_result"
        }
      ],
      "source": [
        "list(detected)"
      ]
    },
    {
      "cell_type": "code",
      "execution_count": null,
      "id": "LSKRr9jWjRiB",
      "metadata": {
        "colab": {
          "base_uri": "https://localhost:8080/"
        },
        "id": "LSKRr9jWjRiB",
        "outputId": "37543cdf-0552-4451-ee7c-2bc4e036dc82"
      },
      "outputs": [
        {
          "name": "stdout",
          "output_type": "stream",
          "text": [
            "3 7\n"
          ]
        }
      ],
      "source": [
        "print(noof1,noof0)"
      ]
    },
    {
      "cell_type": "code",
      "execution_count": null,
      "id": "oVGvzGmZjZM9",
      "metadata": {
        "colab": {
          "base_uri": "https://localhost:8080/"
        },
        "id": "oVGvzGmZjZM9",
        "outputId": "d67b745a-8e81-455c-a8a9-4cdb87efa798"
      },
      "outputs": [
        {
          "name": "stdout",
          "output_type": "stream",
          "text": [
            "Non-Risk\n"
          ]
        }
      ],
      "source": [
        "if noof1<noof0:\n",
        "  print('Non-Risk')\n",
        "else:\n",
        "  print('Risk')\n"
      ]
    },
    {
      "cell_type": "code",
      "execution_count": null,
      "id": "Co77GWCfkMQg",
      "metadata": {
        "colab": {
          "base_uri": "https://localhost:8080/"
        },
        "id": "Co77GWCfkMQg",
        "outputId": "c1642704-487c-4bc8-e068-c895e6c3f39f"
      },
      "outputs": [
        {
          "name": "stdout",
          "output_type": "stream",
          "text": [
            " * Serving Flask app '__main__'\n",
            " * Debug mode: on\n"
          ]
        },
        {
          "name": "stderr",
          "output_type": "stream",
          "text": [
            "INFO:werkzeug:\u001b[31m\u001b[1mWARNING: This is a development server. Do not use it in a production deployment. Use a production WSGI server instead.\u001b[0m\n",
            " * Running on http://127.0.0.1:5000\n",
            "INFO:werkzeug:\u001b[33mPress CTRL+C to quit\u001b[0m\n",
            "INFO:werkzeug: * Restarting with stat\n"
          ]
        }
      ],
      "source": [
        "from flask import Flask, render_template, request\n",
        "\n",
        "app = Flask(__name__)\n",
        "\n",
        "# Load your trained models and other necessary libraries here\n",
        "# ...\n",
        "\n",
        "@app.route('/', methods=['GET', 'POST'])\n",
        "def predict():\n",
        "    if request.method == 'POST':\n",
        "        # Get user input from the form\n",
        "        fea_1 = float(request.form['fea_1'])\n",
        "        fea_2 = float(request.form['fea_2'])\n",
        "        # Include other feature values\n",
        "\n",
        "        # Create a new data point based on user input\n",
        "        new_data_point = {\n",
        "            'fea_1': fea_1,\n",
        "            'fea_2': fea_2,\n",
        "            'OVD_sum':OVD_sum,\n",
        "            'OVD_t1':OVD_t1,\n",
        "            'OVD_t2':OVD_t2,\n",
        "            'OVD_t3':OVD_t3,\n",
        "            'fea_10':fea_10,\n",
        "            'fea_1': fea_1,\n",
        "            'fea_11':fea_11,\n",
        "            'fea_2':fea_2,\n",
        "            'fea_3':fea_3,\n",
        "            'fea_4':fea_4,\n",
        "            'fea_5':fea_5,\n",
        "            'fea_6':fea_6,\n",
        "            'fea_7':fea_7,\n",
        "            'fea_8':fea_8,\n",
        "            'fea_9':fea_9,\n",
        "            'new_balance':new_balance,\n",
        "            'pay_normal':pay_normal ,\n",
        "            'prod_code': prod_code,\n",
        "            # Include other feature values\n",
        "        }\n",
        "\n",
        "        # Convert the data point to a DataFrame\n",
        "        new_data_df = pd.DataFrame([new_data_point])\n",
        "        new_data_df = new_data_df[X_train.columns]\n",
        "\n",
        "        # Make predictions using the ensemble model\n",
        "        ensemble_pred = ensemble.predict(new_data_df)\n",
        "\n",
        "        # Determine the prediction outcome\n",
        "        prediction_outcome = \"Default\" if ensemble_pred == 1 else \"Non-default\"\n",
        "\n",
        "        return render_template('result.html', prediction_outcome=prediction_outcome)\n",
        "\n",
        "    return render_template('index.html')\n",
        "\n",
        "if __name__ == '__main__':\n",
        "    app.run(debug=True)\n"
      ]
    }
  ],
  "metadata": {
    "colab": {
      "provenance": []
    },
    "kernelspec": {
      "display_name": "Python 3 (ipykernel)",
      "language": "python",
      "name": "python3"
    },
    "language_info": {
      "codemirror_mode": {
        "name": "ipython",
        "version": 3
      },
      "file_extension": ".py",
      "mimetype": "text/x-python",
      "name": "python",
      "nbconvert_exporter": "python",
      "pygments_lexer": "ipython3",
      "version": "3.10.9"
    }
  },
  "nbformat": 4,
  "nbformat_minor": 5
}
